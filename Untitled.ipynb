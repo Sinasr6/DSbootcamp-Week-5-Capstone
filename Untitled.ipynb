{
 "cells": [
  {
   "cell_type": "code",
   "execution_count": 2,
   "id": "5b526be7",
   "metadata": {},
   "outputs": [
    {
     "name": "stdout",
     "output_type": "stream",
     "text": [
      "Collecting pyarrow\n",
      "  Downloading pyarrow-14.0.0-cp39-cp39-win_amd64.whl (24.6 MB)\n",
      "Requirement already satisfied: numpy>=1.16.6 in c:\\programdata\\anaconda3\\lib\\site-packages (from pyarrow) (1.20.3)\n",
      "Installing collected packages: pyarrow\n",
      "Successfully installed pyarrow-14.0.0\n"
     ]
    }
   ],
   "source": [
    "!pip install pyarrow"
   ]
  },
  {
   "cell_type": "code",
   "execution_count": 3,
   "id": "124effa6",
   "metadata": {},
   "outputs": [],
   "source": [
    "import pandas as pd\n",
    "import pyarrow as pa\n",
    "import pyarrow.parquet as pq\n"
   ]
  },
  {
   "cell_type": "code",
   "execution_count": null,
   "id": "b7c4568e",
   "metadata": {},
   "outputs": [],
   "source": [
    "\n",
    "# Execute the query and retrieve the data into a pandas DataFrame\n",
    "df = pd.read_sql_query(\"SELECT * FROM your_table\", your_postgres_connection)\n",
    "\n",
    "# Convert the pandas DataFrame to a PyArrow Table\n",
    "table = pa.Table.from_pandas(df)\n",
    "\n",
    "# Define the output file path for the Parquet file\n",
    "output_file_path = '/path/to/your_file.parquet'\n",
    "\n",
    "# Write the PyArrow Table to a Parquet file\n",
    "pq.write_table(table, output_file_path)"
   ]
  }
 ],
 "metadata": {
  "kernelspec": {
   "display_name": "Python 3 (ipykernel)",
   "language": "python",
   "name": "python3"
  },
  "language_info": {
   "codemirror_mode": {
    "name": "ipython",
    "version": 3
   },
   "file_extension": ".py",
   "mimetype": "text/x-python",
   "name": "python",
   "nbconvert_exporter": "python",
   "pygments_lexer": "ipython3",
   "version": "3.9.7"
  }
 },
 "nbformat": 4,
 "nbformat_minor": 5
}
